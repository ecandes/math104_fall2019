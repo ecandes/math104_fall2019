{
 "cells": [
  {
   "cell_type": "code",
   "execution_count": 1,
   "metadata": {},
   "outputs": [],
   "source": [
    "import numpy as np\n",
    "from scipy import linalg\n",
    "import time"
   ]
  },
  {
   "cell_type": "code",
   "execution_count": 2,
   "metadata": {},
   "outputs": [
    {
     "name": "stdout",
     "output_type": "stream",
     "text": [
      "L\n",
      "[[ 0.54  0.    0.    0.    0.    0.    0.    0.    0.    0.  ]\n",
      " [-0.26 -1.62  0.    0.    0.    0.    0.    0.    0.    0.  ]\n",
      " [ 0.83  0.22 -1.5   0.    0.    0.    0.    0.    0.    0.  ]\n",
      " [ 0.94  0.54 -0.92  0.09  0.    0.    0.    0.    0.    0.  ]\n",
      " [ 1.87 -1.36  1.3  -0.58  0.43  0.    0.    0.    0.    0.  ]\n",
      " [ 0.31  2.36 -0.81 -1.09 -0.27 -0.15  0.    0.    0.    0.  ]\n",
      " [-0.07 -1.39  0.84  0.76  0.42  0.61 -0.29  0.    0.    0.  ]\n",
      " [-0.4   0.   -0.27 -1.33 -0.88 -0.98 -0.49 -0.07  0.    0.  ]\n",
      " [-0.41 -2.47  1.33 -0.6   1.43 -0.93  0.26  0.33  1.48  0.  ]\n",
      " [-0.34 -0.39  0.29 -0.61  0.31  0.99 -0.03 -0.39 -0.17  0.52]]\n",
      "\n",
      "Forward elimination working?  True\n",
      "Backward elimination working? True\n"
     ]
    }
   ],
   "source": [
    "from numba import jit\n",
    "\n",
    "@jit(nopython=True)\n",
    "def forwardElimination(L,b):\n",
    "    x = np.zeros(b.shape)\n",
    "    for index in range(L.shape[0]):\n",
    "        x[index] = (b[index] - np.sum(L[index][:index]*x[:index]))/L[index][index]\n",
    "    return x\n",
    "\n",
    "@jit(nopython=True)\n",
    "def backwardElimination(U,b):\n",
    "    return forwardElimination(U[::-1,::-1],b[::-1])[::-1]\n",
    "\n",
    "L = np.tril(np.random.randn(10,10))\n",
    "with np.printoptions(precision = 2,suppress=True):\n",
    "    print('L')\n",
    "    print(L)\n",
    "b = np.random.randn(10)\n",
    "\n",
    "print()\n",
    "\n",
    "x = linalg.solve(L,b)\n",
    "xtest = forwardElimination(L,b)\n",
    "print('Forward elimination working?  {}'.format(np.allclose(x,xtest)))\n",
    "\n",
    "x = linalg.solve(L.T,b)\n",
    "xtest = backwardElimination(L.T,b)\n",
    "print('Backward elimination working? {}'.format(np.allclose(x,xtest)))\n"
   ]
  },
  {
   "cell_type": "code",
   "execution_count": 3,
   "metadata": {},
   "outputs": [],
   "source": [
    "n = 3000\n",
    "\n",
    "A = np.random.randn(n,n)\n",
    "b = np.random.randn(n)"
   ]
  },
  {
   "cell_type": "code",
   "execution_count": 4,
   "metadata": {},
   "outputs": [
    {
     "name": "stdout",
     "output_type": "stream",
     "text": [
      "CPU times: user 1.13 s, sys: 45.9 ms, total: 1.17 s\n",
      "Wall time: 396 ms\n"
     ]
    }
   ],
   "source": [
    "%%time\n",
    "x = linalg.solve(A, b)"
   ]
  },
  {
   "cell_type": "code",
   "execution_count": 5,
   "metadata": {},
   "outputs": [
    {
     "name": "stdout",
     "output_type": "stream",
     "text": [
      "CPU times: user 719 ms, sys: 50 ms, total: 769 ms\n",
      "Wall time: 334 ms\n"
     ]
    }
   ],
   "source": [
    "%%time \n",
    "P, L, U = linalg.lu(A)"
   ]
  },
  {
   "cell_type": "code",
   "execution_count": 6,
   "metadata": {},
   "outputs": [
    {
     "name": "stdout",
     "output_type": "stream",
     "text": [
      "True\n"
     ]
    }
   ],
   "source": [
    "print(np.allclose(A,P@L@U))"
   ]
  },
  {
   "cell_type": "markdown",
   "metadata": {},
   "source": [
    "Permute right-hand side"
   ]
  },
  {
   "cell_type": "code",
   "execution_count": 7,
   "metadata": {},
   "outputs": [],
   "source": [
    "bperm = P.T@b"
   ]
  },
  {
   "cell_type": "code",
   "execution_count": 9,
   "metadata": {},
   "outputs": [
    {
     "name": "stdout",
     "output_type": "stream",
     "text": [
      "True\n",
      "CPU times: user 61.7 ms, sys: 1.62 ms, total: 63.3 ms\n",
      "Wall time: 62.7 ms\n"
     ]
    }
   ],
   "source": [
    "%%time\n",
    "xLU = forwardElimination(L,bperm)\n",
    "xLU = backwardElimination(U,xLU)\n",
    "print(np.allclose(x,xLU))"
   ]
  },
  {
   "cell_type": "code",
   "execution_count": 10,
   "metadata": {},
   "outputs": [
    {
     "name": "stdout",
     "output_type": "stream",
     "text": [
      "CPU times: user 3.03 s, sys: 66.1 ms, total: 3.1 s\n",
      "Wall time: 965 ms\n"
     ]
    }
   ],
   "source": [
    "%%time \n",
    "Q, R = linalg.qr(A)"
   ]
  },
  {
   "cell_type": "code",
   "execution_count": 12,
   "metadata": {},
   "outputs": [
    {
     "name": "stdout",
     "output_type": "stream",
     "text": [
      "True\n",
      "CPU times: user 58.1 ms, sys: 3.06 ms, total: 61.1 ms\n",
      "Wall time: 18.7 ms\n"
     ]
    }
   ],
   "source": [
    "%%time\n",
    "xQR = backwardElimination(R,Q.T@b)\n",
    "print(np.allclose(x,xQR))"
   ]
  },
  {
   "cell_type": "code",
   "execution_count": 13,
   "metadata": {},
   "outputs": [
    {
     "name": "stdout",
     "output_type": "stream",
     "text": [
      "CPU times: user 20.7 s, sys: 127 ms, total: 20.9 s\n",
      "Wall time: 5.28 s\n"
     ]
    }
   ],
   "source": [
    "%%time\n",
    "U, S, V = linalg.svd(A)\n",
    "V = V.T"
   ]
  },
  {
   "cell_type": "code",
   "execution_count": 14,
   "metadata": {},
   "outputs": [
    {
     "name": "stdout",
     "output_type": "stream",
     "text": [
      "True\n",
      "CPU times: user 28.9 ms, sys: 2.17 ms, total: 31 ms\n",
      "Wall time: 7.61 ms\n"
     ]
    }
   ],
   "source": [
    "%%time \n",
    "xSVD = V @(U.T@b/S)\n",
    "print(np.allclose(x,xSVD))"
   ]
  },
  {
   "cell_type": "code",
   "execution_count": 15,
   "metadata": {},
   "outputs": [
    {
     "data": {
      "text/plain": [
       "(3000,)"
      ]
     },
     "execution_count": 15,
     "metadata": {},
     "output_type": "execute_result"
    }
   ],
   "source": [
    "S.shape"
   ]
  },
  {
   "cell_type": "code",
   "execution_count": 16,
   "metadata": {},
   "outputs": [
    {
     "data": {
      "text/plain": [
       "array([109.40547274, 109.02973681, 108.89984915, 108.53554136,\n",
       "       108.32159236, 108.20310186, 108.00111541, 107.71624539,\n",
       "       107.50154436, 107.41184628])"
      ]
     },
     "execution_count": 16,
     "metadata": {},
     "output_type": "execute_result"
    }
   ],
   "source": [
    "S[:10]"
   ]
  },
  {
   "cell_type": "code",
   "execution_count": null,
   "metadata": {},
   "outputs": [],
   "source": []
  }
 ],
 "metadata": {
  "kernelspec": {
   "display_name": "Python 3",
   "language": "python",
   "name": "python3"
  },
  "language_info": {
   "codemirror_mode": {
    "name": "ipython",
    "version": 3
   },
   "file_extension": ".py",
   "mimetype": "text/x-python",
   "name": "python",
   "nbconvert_exporter": "python",
   "pygments_lexer": "ipython3",
   "version": "3.7.3"
  }
 },
 "nbformat": 4,
 "nbformat_minor": 4
}
